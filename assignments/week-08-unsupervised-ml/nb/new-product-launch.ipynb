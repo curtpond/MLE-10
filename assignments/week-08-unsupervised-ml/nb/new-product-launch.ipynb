{
 "cells": [
  {
   "cell_type": "markdown",
   "id": "971748d6",
   "metadata": {},
   "source": [
    "<p align = \"center\" draggable=”false” ><img src=\"https://user-images.githubusercontent.com/37101144/161836199-fdb0219d-0361-4988-bf26-48b0fad160a3.png\" \n",
    "     width=\"200px\"\n",
    "     height=\"auto\"/>\n",
    "</p>"
   ]
  },
  {
   "cell_type": "markdown",
   "id": "82694370",
   "metadata": {},
   "source": [
    "# 🛍️ Launch New Products"
   ]
  },
  {
   "cell_type": "markdown",
   "id": "e9dde4c6",
   "metadata": {},
   "source": [
    "Today you are a machine learning engineer at the Department of New Products at Target Cosmetics! \n",
    "\n",
    "We will start with a small dataset on interactions between users and current products from the past and try to discover substructure, if there's any, by applying some **unsupervised learning** methods. \n",
    "\n",
    "Then we will leverage the small amount of labeled data (current products) in combination with a larger amount of unlabeled data (new products to launch) to make estimations as to which products will sell more. "
   ]
  },
  {
   "cell_type": "markdown",
   "id": "653e62c8",
   "metadata": {},
   "source": [
    "## 📚 Learning Objectives"
   ]
  },
  {
   "cell_type": "markdown",
   "id": "10907851",
   "metadata": {},
   "source": [
    "By the end of this session, you will be able to:\n",
    "\n",
    "- apply dimensionality reduction techniques to reduce features to a lower dimensional space\n",
    "- perform customer segmentation, determine optional number of clusters, and understand assumptions for used algorithm\n",
    "- understand what semi-supervised learning is and leverage it to improve performance of supervised learning"
   ]
  },
  {
   "cell_type": "markdown",
   "id": "2869071e",
   "metadata": {},
   "source": [
    "## Task 1. Dimensionality Reduction"
   ]
  },
  {
   "cell_type": "markdown",
   "id": "dec7505e",
   "metadata": {},
   "source": [
    "1. Load in the data. \n",
    "    \n",
    "    Import `pandas` as `pd` and use `pd.read_csv()` to read in `past.csv.gz` in the `dat` folder, saving it as `past`. \n",
    "    \n",
    "    Data in `past.csv.gz` was propcessed; e.g., features indicating time of day, day of week, month, and year of the purchase have been converted to one-hot representations of these categories. "
   ]
  },
  {
   "cell_type": "code",
   "execution_count": 1,
   "id": "e7132584",
   "metadata": {},
   "outputs": [],
   "source": [
    "import pandas as pd\n",
    "import numpy as np\n",
    "import matplotlib.pyplot as plt\n",
    "from sklearn.decomposition import PCA\n",
    "%matplotlib inline"
   ]
  },
  {
   "cell_type": "code",
   "execution_count": 2,
   "id": "d63ee4f8",
   "metadata": {},
   "outputs": [
    {
     "data": {
      "text/plain": [
       "Index(['product_id', 'user_id', 'NumOfEventsInJourney', 'NumSessions',\n",
       "       'interactionTime', 'maxPrice', 'minPrice', 'NumCart', 'NumView',\n",
       "       'NumRemove', 'InsessionCart', 'InsessionView', 'InsessionRemove',\n",
       "       'Weekend', 'Fr', 'Mon', 'Sat', 'Sun', 'Thu', 'Tue', 'Wed', '2019',\n",
       "       '2020', 'Jan', 'Feb', 'Oct', 'Nov', 'Dec', 'Afternoon', 'Dawn',\n",
       "       'EarlyMorning', 'Evening', 'Morning', 'Night', 'Purchased?', 'Noon',\n",
       "       'Category'],\n",
       "      dtype='object')"
      ]
     },
     "execution_count": 2,
     "metadata": {},
     "output_type": "execute_result"
    }
   ],
   "source": [
    "past = pd.read_csv('../dat/past.csv.gz')\n",
    "past.columns"
   ]
  },
  {
   "cell_type": "markdown",
   "id": "2c21ec92",
   "metadata": {},
   "source": [
    "<details>\n",
    "<summary> Expected output </summary>\n",
    "\n",
    "```\n",
    "Index(['product_id', 'user_id', 'NumOfEventsInJourney', 'NumSessions',\n",
    "       'interactionTime', 'maxPrice', 'minPrice', 'NumCart', 'NumView',\n",
    "       'NumRemove', 'InsessionCart', 'InsessionView', 'InsessionRemove',\n",
    "       'Weekend', 'Fr', 'Mon', 'Sat', 'Sun', 'Thu', 'Tue', 'Wed', '2019',\n",
    "       '2020', 'Jan', 'Feb', 'Oct', 'Nov', 'Dec', 'Afternoon', 'Dawn',\n",
    "       'EarlyMorning', 'Evening', 'Morning', 'Night', 'Purchased?', 'Noon',\n",
    "       'Category'],\n",
    "      dtype='object')\n",
    "```\n",
    "</details>"
   ]
  },
  {
   "cell_type": "markdown",
   "id": "fec9671a",
   "metadata": {},
   "source": [
    "2. What percentage of the interactions (rows) resulted in a purchase?\n",
    "\n",
    "    Do people mostly buy what they look at or do they do a lot of \"window shopping\" (shopping around without buying)?\n",
    "    \n",
    "    From the perspective of classification, is the data balanced?"
   ]
  },
  {
   "cell_type": "code",
   "execution_count": 3,
   "id": "4acf13b8",
   "metadata": {},
   "outputs": [
    {
     "name": "stdout",
     "output_type": "stream",
     "text": [
      "The percentage of rows that resulted in a purchase is 0.34 percent.\n"
     ]
    }
   ],
   "source": [
    "purchased = past['Purchased?'].mean()\n",
    "print(f\"The percentage of rows that resulted in a purchase is {round(purchased,2)} percent.\")"
   ]
  },
  {
   "cell_type": "markdown",
   "id": "560d940e",
   "metadata": {},
   "source": [
    "3. Drop `product_id` and `user_id` and save the rest columns to a new `pd.DataFrame`:`X`; then pop the column `'Purchased?'` and save it to `y`."
   ]
  },
  {
   "cell_type": "code",
   "execution_count": 4,
   "id": "d72fed18",
   "metadata": {},
   "outputs": [],
   "source": [
    "X = past.drop(columns=['product_id', 'user_id'])\n",
    "\n",
    "y = X.pop('Purchased?')"
   ]
  },
  {
   "cell_type": "code",
   "execution_count": 5,
   "id": "7c2b48ba",
   "metadata": {},
   "outputs": [],
   "source": [
    "assert X.shape == (5000, 34)\n",
    "assert y.shape == (5000,)"
   ]
  },
  {
   "cell_type": "markdown",
   "id": "8d487454",
   "metadata": {},
   "source": [
    "4. Apply [PCA (check documentation if unfamiliar)](https://scikit-learn.org/stable/modules/generated/sklearn.decomposition.PCA.html) to reduce the number of features down to **5**, save it to a numpy array named `X_reduced`. \n",
    "\n",
    "    Do you need to preprocess the data before performing PCA? Quick review [here: Importance of feature scaling](https://scikit-learn.org/stable/auto_examples/preprocessing/plot_scaling_importance.html).\n",
    "    \n",
    "    If time permits, read [Does mean centering or feature scaling affect a Principal Component Analysis?](https://sebastianraschka.com/faq/docs/pca-scaling.html) or [discussion 1](https://stats.stackexchange.com/questions/53/pca-on-correlation-or-covariance)."
   ]
  },
  {
   "cell_type": "code",
   "execution_count": 7,
   "id": "26bf49d6",
   "metadata": {},
   "outputs": [],
   "source": [
    "from sklearn.preprocessing import StandardScaler\n",
    "\n",
    "scaler = StandardScaler()\n",
    "pca = PCA(n_components=5)\n",
    "\n",
    "# Save the reduced data to a numpy array named X_reduced\n",
    "X_reduced = pca.fit_transform(scaler.fit_transform(X))"
   ]
  },
  {
   "cell_type": "code",
   "execution_count": 8,
   "id": "f60ea4b8",
   "metadata": {},
   "outputs": [],
   "source": [
    "assert X_reduced.shape == (5000, 5)"
   ]
  },
  {
   "cell_type": "markdown",
   "id": "ec23808b",
   "metadata": {},
   "source": [
    "5. Print out the percentage of variance explained by each of the selected components."
   ]
  },
  {
   "cell_type": "code",
   "execution_count": 9,
   "id": "bd43be7c",
   "metadata": {},
   "outputs": [
    {
     "name": "stdout",
     "output_type": "stream",
     "text": [
      "[0.1028236  0.09445261 0.06513241 0.05077779 0.04304156]\n"
     ]
    }
   ],
   "source": [
    "# print out the percentage of variance explained by each component\n",
    "print(pca.explained_variance_ratio_)"
   ]
  },
  {
   "cell_type": "markdown",
   "id": "fe1c7c62",
   "metadata": {},
   "source": [
    "6. Review code in functions `visualize_2pcs` and `visualize_3pcs` below and visualize first few principal components in 2D and 3D plots, respectively:"
   ]
  },
  {
   "cell_type": "code",
   "execution_count": 10,
   "id": "900548a2",
   "metadata": {},
   "outputs": [],
   "source": [
    "def visualize_2pcs(pcs, y):\n",
    "    fig, ax = plt.subplots()\n",
    "    plot = plt.scatter(pcs[:,0], pcs[:,1], c=y) \n",
    "    ax.legend(\n",
    "        handles=plot.legend_elements()[0], \n",
    "        labels=['No', 'Yes'])"
   ]
  },
  {
   "cell_type": "code",
   "execution_count": 11,
   "id": "907db47f",
   "metadata": {},
   "outputs": [],
   "source": [
    "def visualize_3pcs(pcs, y):\n",
    "    fig, ax = plt.subplots()\n",
    "    ax = fig.add_subplot(projection='3d')\n",
    "    plot = ax.scatter(pcs[:,0], pcs[:,1], pcs[:,2], c=y)\n",
    "    ax.legend(\n",
    "        handles=plot.legend_elements()[0], \n",
    "        labels=['No', 'Yes'])"
   ]
  },
  {
   "cell_type": "code",
   "execution_count": 12,
   "id": "01abccc3",
   "metadata": {},
   "outputs": [
    {
     "data": {
      "image/png": "[encoded data removed]",
      "text/plain": [
       "<Figure size 432x288 with 1 Axes>"
      ]
     },
     "metadata": {
      "needs_background": "light"
     },
     "output_type": "display_data"
    },
    {
     "data": {
      "image/png": "[encoded data removed]",
      "text/plain": [
       "<Figure size 432x288 with 2 Axes>"
      ]
     },
     "metadata": {
      "needs_background": "light"
     },
     "output_type": "display_data"
    }
   ],
   "source": [
    "visualize_2pcs(X_reduced, y)\n",
    "visualize_3pcs(X_reduced, y)"
   ]
  },
  {
   "cell_type": "markdown",
   "id": "b9f1e012",
   "metadata": {},
   "source": [
    "7. One way to assess the quality of the dimensionality reduction, when the groundtruth is available of course, is comparing the prediction performance using given features vs reduced (engineered) features.\n",
    "\n",
    "    Complete the wrapper function below that \n",
    "\n",
    "    - takes features, target, and a boolean parameter indicating whether to include standardization in the pipeline or not\n",
    "    - split the data into train (80%) and test (20%) datasets, set the random state for spliting at 0\n",
    "    - build a pipeline that \n",
    "\n",
    "        1) preprocessing data using standardization if the `standardize` is `True`; otherwise skip this step  \n",
    "\n",
    "        2) apply logistic regression ( are the labels balanced? )\n",
    "        \n",
    "    - fit the pipeline using training data\n",
    "    - print the classification report (use `sklearn.metrics.classification_report`) on test data"
   ]
  },
  {
   "cell_type": "code",
   "execution_count": 13,
   "id": "8a6ff368",
   "metadata": {},
   "outputs": [],
   "source": [
    "from sklearn import pipeline\n",
    "from sklearn import preprocessing\n",
    "from sklearn.model_selection import train_test_split\n",
    "from sklearn import linear_model \n",
    "from sklearn.metrics import classification_report\n",
    "from sklearn.linear_model import LogisticRegression\n",
    "from sklearn.pipeline import Pipeline\n",
    "\n",
    "def train(X, y, standardize=True) -> None:\n",
    "    X_train, X_test, y_train, y_test = train_test_split(X, y, test_size=0.2, random_state=0)\n",
    "    if standardize:\n",
    "        pipeline = Pipeline([\n",
    "            ('scaler', StandardScaler()),\n",
    "            ('logistic', LogisticRegression(class_weight='balanced'),)\n",
    "        ])\n",
    "    else:\n",
    "        pipeline = Pipeline([\n",
    "            ('logistic', LogisticRegression(class_weight='balanced'),)\n",
    "        ])\n",
    "    pipeline.fit(X_train, y_train)\n",
    "    print(classification_report(y_test, pipeline.predict(X_test)))\n"
   ]
  },
  {
   "attachments": {},
   "cell_type": "markdown",
   "id": "5b17ae17",
   "metadata": {},
   "source": [
    "#### Now apply the pipeline on the all the features `X` and review the performance"
   ]
  },
  {
   "cell_type": "code",
   "execution_count": 14,
   "id": "2dfc3392",
   "metadata": {},
   "outputs": [
    {
     "name": "stdout",
     "output_type": "stream",
     "text": [
      "              precision    recall  f1-score   support\n",
      "\n",
      "           0       0.75      0.77      0.76       649\n",
      "           1       0.55      0.52      0.54       351\n",
      "\n",
      "    accuracy                           0.68      1000\n",
      "   macro avg       0.65      0.65      0.65      1000\n",
      "weighted avg       0.68      0.68      0.68      1000\n",
      "\n"
     ]
    }
   ],
   "source": [
    "# Apply the pipeline on all the features 'X' and review the performance\n",
    "model = train(X, y)"
   ]
  },
  {
   "cell_type": "markdown",
   "id": "b18c79f6",
   "metadata": {},
   "source": [
    "Similarly, apply the pipeline on the reduced / engineered features `X_reduced`. Should you include standardization in the pipeline?"
   ]
  },
  {
   "cell_type": "code",
   "execution_count": 15,
   "id": "7486aa3b",
   "metadata": {},
   "outputs": [
    {
     "name": "stdout",
     "output_type": "stream",
     "text": [
      "              precision    recall  f1-score   support\n",
      "\n",
      "           0       0.74      0.72      0.73       649\n",
      "           1       0.51      0.54      0.52       351\n",
      "\n",
      "    accuracy                           0.66      1000\n",
      "   macro avg       0.63      0.63      0.63      1000\n",
      "weighted avg       0.66      0.66      0.66      1000\n",
      "\n"
     ]
    }
   ],
   "source": [
    "# Apply the pipeline on the reduced features 'X_reduced' and review the performance\n",
    "train(X_reduced, y)"
   ]
  },
  {
   "cell_type": "markdown",
   "id": "b6cf1219",
   "metadata": {},
   "source": [
    "8. Are the results as expected? Discuss the pros and cons using reduced set of features in this application with your teammate. \n",
    "    *YOUR ANSWER HERE*"
   ]
  },
  {
   "cell_type": "markdown",
   "id": "21cc9707",
   "metadata": {},
   "source": [
    "## Task 2. Customer Segmentation"
   ]
  },
  {
   "cell_type": "markdown",
   "id": "80a1a95d",
   "metadata": {},
   "source": [
    "In this task, we apply k-means clustering on the reduced data, experimenting different vaules of `n_cluster`, summarize all this information in a single plot, the *Elbow* plot. In addition, leverage silhouette visualization to help decide the \"optimal\" number of clusters in our data and answer: \n",
    "\n",
    "1. Are there any patterns among customer purchasing behaviors?\n",
    "2. If so, what categories do they belong to? How do you characterize the clusters?\n",
    "3. If not, what followup steps and / or recommendations will you make as an MLE?"
   ]
  },
  {
   "cell_type": "markdown",
   "id": "1b6dc7fd",
   "metadata": {},
   "source": [
    "1. Look up the [documentation](https://scikit-learn.org/stable/modules/clustering.html) and import the model class for k-means from `sklearn.cluster`"
   ]
  },
  {
   "cell_type": "code",
   "execution_count": null,
   "id": "7fbbf216",
   "metadata": {},
   "outputs": [],
   "source": [
    "from sklearn.cluster import KMeans"
   ]
  },
  {
   "cell_type": "markdown",
   "id": "9a4a915b",
   "metadata": {},
   "source": [
    "2. Complete `visualize_elbow`; inspect the code and complete\n",
    "\n",
    "    - fit k-means on the given data `X` and `k`, setting `random_state` to be 10 for reproducibility\n",
    "    - append the sum of squared distances of samples to their closest cluster center for each $k$ to list `inertias`"
   ]
  },
  {
   "cell_type": "code",
   "execution_count": null,
   "id": "d2338ea5",
   "metadata": {},
   "outputs": [],
   "source": [
    "def visualize_elbow(X, ks):\n",
    "    fig, ax = plt.subplots()\n",
    "    inertias = []\n",
    "    for k in ks:\n",
    "        model = KMeans(n_clusters=k, random_state=10)\n",
    "        model.fit(X, k)\n",
    "        inertias.append(model.inertia_)\n",
    "    plt.plot(ks, inertias)\n",
    "    plt.xticks(ks)\n",
    "    plt.xlabel('Number of clusters')\n",
    "    plt.ylabel('Inertia')\n",
    "    plt.title('Elbow plot')"
   ]
  },
  {
   "cell_type": "markdown",
   "id": "62bc7db3",
   "metadata": {},
   "source": [
    "3. Visualize the elbow plot for the number of clusters ranging between 2 and 9. Discuss with your teammate, what is the 'optimal' number of clusters?"
   ]
  },
  {
   "cell_type": "code",
   "execution_count": null,
   "id": "9de40c6e",
   "metadata": {},
   "outputs": [],
   "source": [
    "# Visualize the elbow plot for the scaled data\n",
    "visualize_elbow(X, [1,2])"
   ]
  },
  {
   "cell_type": "markdown",
   "id": "50183626",
   "metadata": {},
   "source": [
    "4. What are the disadvantage to use the Elbow method? "
   ]
  },
  {
   "cell_type": "markdown",
   "id": "bd270b30",
   "metadata": {},
   "source": [
    "    *YOUR ANSWER HERE*"
   ]
  },
  {
   "cell_type": "markdown",
   "id": "df38e1e1",
   "metadata": {},
   "source": [
    "5. Let's try a different approach: [silhouette score](https://towardsdatascience.com/clustering-metrics-better-than-the-elbow-method-6926e1f723a6).\n",
    "\n",
    "    A helper function `visualize_silhouette` is provided for you (inspect the code in `utils.py`) and figure out how to use it to visualize k-means for k ranges from 2 to 8 on the reduced data. "
   ]
  },
  {
   "cell_type": "code",
   "execution_count": null,
   "id": "35d5ac66",
   "metadata": {},
   "outputs": [],
   "source": [
    "from utils import visualize_silhouette"
   ]
  },
  {
   "cell_type": "code",
   "execution_count": null,
   "id": "3047c431",
   "metadata": {
    "scrolled": false
   },
   "outputs": [],
   "source": [
    "# Visualize the silhouette plot for the scaled data\n",
    "visualize_silhouette(6, X_reduced)"
   ]
  },
  {
   "cell_type": "markdown",
   "id": "6adf9e73",
   "metadata": {},
   "source": [
    "6. Instantiate a k-means model using the number of cluster that you deem optimal, assign it to `km`, and fit on the reduced data. "
   ]
  },
  {
   "cell_type": "code",
   "execution_count": null,
   "id": "b5692682",
   "metadata": {},
   "outputs": [],
   "source": [
    "# YOUR CODE HERE"
   ]
  },
  {
   "cell_type": "markdown",
   "id": "19b802fa",
   "metadata": {},
   "source": [
    "7. What is the size of each cluster? "
   ]
  },
  {
   "cell_type": "code",
   "execution_count": null,
   "id": "d41df1da",
   "metadata": {},
   "outputs": [],
   "source": [
    "# YOUR CODE HERE"
   ]
  },
  {
   "cell_type": "markdown",
   "id": "cfaf3260",
   "metadata": {},
   "source": [
    "8. Create a new column called `cluster_pca` in `past`, with values as predicted cluster index predicted by `km`. "
   ]
  },
  {
   "cell_type": "code",
   "execution_count": null,
   "id": "e55328f5",
   "metadata": {},
   "outputs": [],
   "source": [
    "# YOUR CODE HERE"
   ]
  },
  {
   "cell_type": "markdown",
   "id": "62ea839f",
   "metadata": {},
   "source": [
    "9. Open ended: manipulate `past` and see if you can characterize each cluster (e.g., calculate statistics of / visualize features for each cluster), how will you intepret the results? \n",
    "\n",
    "    **Note**. This is probably the most important part as far as the business stakeholders are concerned: \"*What can I do with your results?*\" The math, modeling part is relatively easy, compared to actionable recommendations you make for business. Thus, before jumping on a different algorithm for the given task, do you best to 1) understand the data in depth 2) keep buisiness use cases in mind throughout all steps. "
   ]
  },
  {
   "cell_type": "markdown",
   "id": "05941c7f",
   "metadata": {},
   "source": [
    "    *YOUR ANSWER HERE*"
   ]
  },
  {
   "cell_type": "code",
   "execution_count": null,
   "id": "1e6bf905",
   "metadata": {},
   "outputs": [],
   "source": [
    "# YOUR CODE HERE"
   ]
  },
  {
   "cell_type": "markdown",
   "id": "045163e7",
   "metadata": {},
   "source": [
    "10. What are the assumptions for k-means? Judging by the cluster sizes, is k-means a good approach? \n",
    "\n",
    "    Scanning the list of [clustering algorithms](https://scikit-learn.org/stable/modules/clustering.html) implemented in scikit-learn, try at least one other algorithm, examine its assumptions, and intepret results."
   ]
  },
  {
   "cell_type": "markdown",
   "id": "33bd3042",
   "metadata": {},
   "source": [
    "    *YOUR ANSWER HERE*"
   ]
  },
  {
   "cell_type": "code",
   "execution_count": null,
   "id": "90bf70c7",
   "metadata": {},
   "outputs": [],
   "source": [
    "# YOUR CODE HERE"
   ]
  },
  {
   "cell_type": "markdown",
   "id": "f55c9ebd",
   "metadata": {},
   "source": [
    "11. Jot down recommendations or followup steps, detailing the reasons."
   ]
  },
  {
   "cell_type": "markdown",
   "id": "01a41aa0",
   "metadata": {},
   "source": [
    "    *YOUR ANSWER HERE*"
   ]
  },
  {
   "cell_type": "markdown",
   "id": "79f44672",
   "metadata": {},
   "source": [
    "## Task 3. To launch or not to launch?"
   ]
  },
  {
   "cell_type": "markdown",
   "id": "494e9fa9",
   "metadata": {},
   "source": [
    "In this task, we will work on a hypothetical application: cosmetics purchase prediction for new products with limited features. The intention here is to maximize **recall** so that no popular cosmetic is understocked. Overstocking is less of a concern since it will not cause disengagement in customers.\n",
    "\n",
    "The purchase status for each \"new\" product is known, but we only use the labels for benchmarking purpose. Instead, we use label spreading method to leverage a small amount of labeled data in combination with a larger amount of unlabeled data. "
   ]
  },
  {
   "cell_type": "markdown",
   "id": "e37a4854",
   "metadata": {},
   "source": [
    "1. Read in the data in `new.csv.gz` and save it as a `pd.DataFrame` named `new`. This is the test dataset.\n",
    "\n",
    "    Look at the shape of `new` and inspect the frist few rows."
   ]
  },
  {
   "cell_type": "code",
   "execution_count": null,
   "id": "57ed0232",
   "metadata": {},
   "outputs": [],
   "source": [
    "# YOUR CODE HERE"
   ]
  },
  {
   "cell_type": "code",
   "execution_count": null,
   "id": "8da7c797",
   "metadata": {},
   "outputs": [],
   "source": [
    "assert new.shape == (30091, 5)"
   ]
  },
  {
   "cell_type": "code",
   "execution_count": null,
   "id": "d53a5be6",
   "metadata": {},
   "outputs": [],
   "source": [
    "new.head()"
   ]
  },
  {
   "cell_type": "markdown",
   "id": "c7637957",
   "metadata": {},
   "source": [
    "2. How does the number of data points in the training set (`past`) compare to the number of datapoints in the test set (`new`)? \n",
    "\n",
    "    And how does the feature set in the training set compare to the feature set in the test set?"
   ]
  },
  {
   "cell_type": "markdown",
   "id": "1ee95e44",
   "metadata": {},
   "source": [
    "        *YOUR ANSWER HERE*"
   ]
  },
  {
   "cell_type": "markdown",
   "id": "223870d9",
   "metadata": {},
   "source": [
    "    *The number of datapoints in the training set is relatively small while the test set is quite large. The training set has more features than in the test set.*"
   ]
  },
  {
   "cell_type": "markdown",
   "id": "6b229240",
   "metadata": {},
   "source": [
    "3. Are there any product ids in both the training and test datasets? Hint: use `np.intersect1d` or set operations."
   ]
  },
  {
   "cell_type": "code",
   "execution_count": null,
   "id": "bec1dfec",
   "metadata": {},
   "outputs": [],
   "source": [
    "# YOUR CODE HERE"
   ]
  },
  {
   "cell_type": "markdown",
   "id": "06769b43",
   "metadata": {},
   "source": [
    "4. What percentage of data points resulted in a purchase in the test set?\n",
    "\n",
    "    In reality, we won't be able to calculate information that is not available to you. Here, we simply demonstrated that the distributions in target between `past` and `new` are similar. "
   ]
  },
  {
   "cell_type": "code",
   "execution_count": null,
   "id": "39aa4615",
   "metadata": {
    "scrolled": true
   },
   "outputs": [],
   "source": [
    "# YOUR CODE HERE # ~.344"
   ]
  },
  {
   "cell_type": "markdown",
   "id": "34ae7223",
   "metadata": {},
   "source": [
    "5. Create `ndarray`s: `X_train`, `y_train`, `X_test`, and `y_test` according to the following guidelines.\n",
    "\n",
    "    - The `Purchased?` column is the target.\n",
    "    - `X_train` and `X_test` should contain the same features\n",
    "    - `product_id` should not be a feature.\n",
    "\n",
    "    Double check that the shapes of the four arrays are what you expect."
   ]
  },
  {
   "cell_type": "code",
   "execution_count": null,
   "id": "5badbca1",
   "metadata": {},
   "outputs": [],
   "source": [
    "# YOUR CODE HERE"
   ]
  },
  {
   "cell_type": "code",
   "execution_count": null,
   "id": "d8dfb6ab",
   "metadata": {},
   "outputs": [],
   "source": [
    "assert X_train.shape[0] == y_train.shape[0] # 5000\n",
    "assert X_train.shape[1] == X_test.shape[1]  # 3\n",
    "\n",
    "assert type(X_train) == np.ndarray # make sure you import numpy as np at this point\n",
    "assert type(X_train).__module__ == type(y_train).__module__ == np.__name__  # alternative way"
   ]
  },
  {
   "cell_type": "markdown",
   "id": "25dd22e5",
   "metadata": {},
   "source": [
    "6. Let's fit a simple logistic regression on the training set (`X_train`, `y_train`) and report performance on the test set (`X_test`, `y_test`)."
   ]
  },
  {
   "cell_type": "code",
   "execution_count": null,
   "id": "33eea84d",
   "metadata": {},
   "outputs": [],
   "source": [
    "# YOUR CODE HERE"
   ]
  },
  {
   "cell_type": "markdown",
   "id": "f8a805e6",
   "metadata": {},
   "source": [
    "7. Re-assemble data for semi-supervised learning. \n",
    "    - Use the features from the test set along with the features from the training set. \n",
    "    - Only use the labels from the training set but none from the test set.  \n",
    "    \n",
    "    Since we're using a large number of sampled features, but only a small number of these samples have labels, this is **semi-supervised learning**."
   ]
  },
  {
   "cell_type": "markdown",
   "id": "a2aa8a29",
   "metadata": {},
   "source": [
    "Create a matrix `X` that has the rows from `X_train` concatenated with the rows from `X_test`. Check the shape of the matrix."
   ]
  },
  {
   "cell_type": "code",
   "execution_count": null,
   "id": "59d3585a",
   "metadata": {},
   "outputs": [],
   "source": [
    "# YOUR CODE HERE"
   ]
  },
  {
   "cell_type": "code",
   "execution_count": null,
   "id": "c67d4d7b",
   "metadata": {},
   "outputs": [],
   "source": [
    "assert X.shape == (35091, 3)"
   ]
  },
  {
   "cell_type": "markdown",
   "id": "b1dabc7c",
   "metadata": {},
   "source": [
    "Create the target array `y` by concatenating `y_train` with a vector of -1's, effectively creating a dummy label for the `X_test` rows in `X`. Check the shape of the array. It should have as many values as `X` has rows."
   ]
  },
  {
   "cell_type": "code",
   "execution_count": null,
   "id": "5eec0b7f",
   "metadata": {},
   "outputs": [],
   "source": [
    "# YOUR CODE HERE"
   ]
  },
  {
   "cell_type": "code",
   "execution_count": null,
   "id": "17318009",
   "metadata": {},
   "outputs": [],
   "source": [
    "assert X.shape[0] == y.shape[0]"
   ]
  },
  {
   "cell_type": "markdown",
   "id": "ee27528c",
   "metadata": {},
   "source": [
    "8. Semi-supervised learning. \n",
    "\n",
    "    Scikit-learn provides two label propagation models: [`LabelPropagation`](https://scikit-learn.org/stable/modules/generated/sklearn.semi_supervised.LabelPropagation.html) and [`LabelSpreading`](https://scikit-learn.org/stable/modules/generated/sklearn.semi_supervised.LabelSpreading.html). Both work by constructing a similarity graph over all items in the input dataset. `LabelSpreading` is similar to the basic Label Propagation algorithm, but it uses an affinity matrix based on the normalized graph Laplacian and soft clamping across the labels; thus more robust to noise. We will be using scikit-learn's `LabelSpreading` model with `kNN`.\n",
    "    \n",
    "    Train a `LabelSpreading` model. Set `kernel` to `knn` and `alpha` to 0.01."
   ]
  },
  {
   "cell_type": "code",
   "execution_count": null,
   "id": "9b4ee882",
   "metadata": {},
   "outputs": [],
   "source": [
    "# YOUR CODE HERE"
   ]
  },
  {
   "cell_type": "markdown",
   "id": "1095f805",
   "metadata": {},
   "source": [
    "9. Extract the predictions for the test data. \n",
    "\n",
    "    You can get the predictions from the `transduction_` attribute. Note that there is a value for every row in `X`, so select just the values that correspond to `X_test`."
   ]
  },
  {
   "cell_type": "code",
   "execution_count": null,
   "id": "ebc64f3a",
   "metadata": {},
   "outputs": [],
   "source": [
    "semi_sup_preds = # YOUR CODE HERE"
   ]
  },
  {
   "cell_type": "code",
   "execution_count": null,
   "id": "0c71554f",
   "metadata": {},
   "outputs": [],
   "source": [
    "assert semi_sup_preds.shape[0] == X_test.shape[0]"
   ]
  },
  {
   "cell_type": "markdown",
   "id": "e31745e2",
   "metadata": {},
   "source": [
    "10. Print the classification report"
   ]
  },
  {
   "cell_type": "code",
   "execution_count": null,
   "id": "79e8fb50",
   "metadata": {},
   "outputs": [],
   "source": [
    "print(classification_report(y_test, semi_sup_preds)) # make sure you properly import classification_report"
   ]
  },
  {
   "cell_type": "markdown",
   "id": "f87a48ab",
   "metadata": {},
   "source": [
    "Let's bring the performance from the supervised learning model down to see the comparison; discuss the areas of improvement and reasons for improvement."
   ]
  },
  {
   "cell_type": "code",
   "execution_count": null,
   "id": "e4f32dd6",
   "metadata": {},
   "outputs": [],
   "source": [
    "print(classification_report(y_test, y_pred))"
   ]
  },
  {
   "cell_type": "markdown",
   "id": "8f1ee798",
   "metadata": {},
   "source": [
    "    *YOUR ANSWER HERE*"
   ]
  },
  {
   "cell_type": "markdown",
   "id": "4fbc9772",
   "metadata": {},
   "source": [
    "11. Read [Small Data Can Play a Big Role in AI](https://hbr.org/2020/02/small-data-can-play-a-big-role-in-ai) and discuss with your teammate about AI tools for training AI with small data and their use cases. "
   ]
  },
  {
   "cell_type": "markdown",
   "id": "78da2390",
   "metadata": {},
   "source": [
    "## Acknowledgement & References"
   ]
  },
  {
   "cell_type": "markdown",
   "id": "67702bb8",
   "metadata": {},
   "source": [
    "- data was adapted from Kaggle: [eCommerce Events History in Cosmetics Shop](https://www.kaggle.com/mkechinov/ecommerce-events-history-in-cosmetics-shop)\n",
    "- function `visualize_silhouette` was adapted from [plot_kmeans_silhouette_analysis by scikit-learn](https://scikit-learn.org/stable/auto_examples/cluster/plot_kmeans_silhouette_analysis.html)\n",
    "- [Categorizing Online Shopping Behavior from Cosmetics to Electronics: An Analytical Framework](https://arxiv.org/pdf/2010.02503.pdf)\n",
    "- [OPAM: Online Purchasing-behavior Analysis using Machine learning](https://arxiv.org/pdf/2102.01625.pdf)"
   ]
  }
 ],
 "metadata": {
  "kernelspec": {
   "display_name": "fastai",
   "language": "python",
   "name": "python3"
  },
  "language_info": {
   "codemirror_mode": {
    "name": "ipython",
    "version": 3
   },
   "file_extension": ".py",
   "mimetype": "text/x-python",
   "name": "python",
   "nbconvert_exporter": "python",
   "pygments_lexer": "ipython3",
   "version": "3.10.4"
  },
  "toc": {
   "base_numbering": 1,
   "nav_menu": {},
   "number_sections": true,
   "sideBar": true,
   "skip_h1_title": false,
   "title_cell": "Table of Contents",
   "title_sidebar": "Contents",
   "toc_cell": false,
   "toc_position": {},
   "toc_section_display": true,
   "toc_window_display": true
  },
  "vscode": {
   "interpreter": {
    "hash": "4b6371f9b180b180e3c0fc2dc539c52593b72b3e75aed3593bd0a5845eb81bd2"
   }
  }
 },
 "nbformat": 4,
 "nbformat_minor": 5
}
